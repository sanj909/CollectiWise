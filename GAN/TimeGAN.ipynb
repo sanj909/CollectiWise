{
 "cells": [
  {
   "cell_type": "code",
   "execution_count": 1,
   "metadata": {},
   "outputs": [],
   "source": [
    "from os import path\n",
    "import pandas as pd\n",
    "import numpy as np\n",
    "import matplotlib.pyplot as plt\n",
    "import seaborn as sns"
   ]
  },
  {
   "cell_type": "code",
   "execution_count": 8,
   "metadata": {},
   "outputs": [],
   "source": [
    "# pre-implemented TimeGAN\n",
    "#!pip install ydata_synthetic\n",
    "from ydata_synthetic.synthesizers.timeseries import TimeGAN"
   ]
  },
  {
   "cell_type": "code",
   "execution_count": 86,
   "metadata": {},
   "outputs": [],
   "source": [
    "#Set TimeGAN hyperparams\n",
    "seq_len=24\n",
    "n_seq = 5\n",
    "hidden_dim=24\n",
    "gamma=1\n",
    "\n",
    "noise_dim = 32\n",
    "dim = 128\n",
    "batch_size = 128\n",
    "\n",
    "log_step = 100\n",
    "learning_rate = 5e-4\n",
    "\n",
    "gan_args = [batch_size, learning_rate, noise_dim, 24, 2, (0, 1), dim]"
   ]
  },
  {
   "cell_type": "code",
   "execution_count": 31,
   "metadata": {},
   "outputs": [],
   "source": [
    "dataset = pd.read_csv('BTC.csv', sep=',') # Training on bitcoin data "
   ]
  },
  {
   "cell_type": "code",
   "execution_count": 32,
   "metadata": {},
   "outputs": [],
   "source": [
    "dataset = dataset.drop(['timestamp'], axis=1)"
   ]
  },
  {
   "cell_type": "code",
   "execution_count": 73,
   "metadata": {},
   "outputs": [
    {
     "data": {
      "text/plain": [
       "array([], shape=(0, 24, 5), dtype=float64)"
      ]
     },
     "execution_count": 73,
     "metadata": {},
     "output_type": "execute_result"
    }
   ],
   "source": [
    "# Use a time period of 24 trading days for prediction (not sure why)\n",
    "data_array = np.empty((0,24,5), float)\n"
   ]
  },
  {
   "cell_type": "code",
   "execution_count": 80,
   "metadata": {},
   "outputs": [],
   "source": [
    "output_list=[]\n",
    "for i in range(len(dataset)-24):\n",
    "    temp_array = dataset.iloc[i:i+24].to_numpy()\n",
    "    temp_list = temp_array.tolist()\n",
    "    output_list.append(temp_list)\n",
    "    #data_array = np.append(data_array, temp_array, axis=0)"
   ]
  },
  {
   "cell_type": "code",
   "execution_count": 85,
   "metadata": {},
   "outputs": [],
   "source": [
    "train_data = np.array(output_list)"
   ]
  },
  {
   "cell_type": "markdown",
   "metadata": {},
   "source": [
    "Training the TimeGAN synthesizer"
   ]
  },
  {
   "cell_type": "code",
   "execution_count": 93,
   "metadata": {},
   "outputs": [
    {
     "name": "stderr",
     "output_type": "stream",
     "text": [
      "Emddeding network training: 100%|█████████████████████████████████████████████████| 5000/5000 [01:15<00:00, 66.57it/s]\n",
      "Supervised network training:   0%|                                                           | 0/5000 [00:00<?, ?it/s]"
     ]
    },
    {
     "name": "stdout",
     "output_type": "stream",
     "text": [
      "WARNING:tensorflow:Gradients do not exist for variables ['GRU_1/gru_cell_62/kernel:0', 'GRU_1/gru_cell_62/recurrent_kernel:0', 'GRU_1/gru_cell_62/bias:0', 'GRU_2/gru_cell_63/kernel:0', 'GRU_2/gru_cell_63/recurrent_kernel:0', 'GRU_2/gru_cell_63/bias:0', 'GRU_3/gru_cell_64/kernel:0', 'GRU_3/gru_cell_64/recurrent_kernel:0', 'GRU_3/gru_cell_64/bias:0', 'OUT/kernel:0', 'OUT/bias:0', 'GRU_1/gru_cell_70/kernel:0', 'GRU_1/gru_cell_70/recurrent_kernel:0', 'GRU_1/gru_cell_70/bias:0', 'GRU_2/gru_cell_71/kernel:0', 'GRU_2/gru_cell_71/recurrent_kernel:0', 'GRU_2/gru_cell_71/bias:0', 'GRU_3/gru_cell_72/kernel:0', 'GRU_3/gru_cell_72/recurrent_kernel:0', 'GRU_3/gru_cell_72/bias:0', 'OUT/kernel:0', 'OUT/bias:0'] when minimizing the loss.\n",
      "WARNING:tensorflow:Gradients do not exist for variables ['GRU_1/gru_cell_62/kernel:0', 'GRU_1/gru_cell_62/recurrent_kernel:0', 'GRU_1/gru_cell_62/bias:0', 'GRU_2/gru_cell_63/kernel:0', 'GRU_2/gru_cell_63/recurrent_kernel:0', 'GRU_2/gru_cell_63/bias:0', 'GRU_3/gru_cell_64/kernel:0', 'GRU_3/gru_cell_64/recurrent_kernel:0', 'GRU_3/gru_cell_64/bias:0', 'OUT/kernel:0', 'OUT/bias:0', 'GRU_1/gru_cell_70/kernel:0', 'GRU_1/gru_cell_70/recurrent_kernel:0', 'GRU_1/gru_cell_70/bias:0', 'GRU_2/gru_cell_71/kernel:0', 'GRU_2/gru_cell_71/recurrent_kernel:0', 'GRU_2/gru_cell_71/bias:0', 'GRU_3/gru_cell_72/kernel:0', 'GRU_3/gru_cell_72/recurrent_kernel:0', 'GRU_3/gru_cell_72/bias:0', 'OUT/kernel:0', 'OUT/bias:0'] when minimizing the loss.\n"
     ]
    },
    {
     "name": "stderr",
     "output_type": "stream",
     "text": [
      "Supervised network training: 100%|████████████████████████████████████████████████| 5000/5000 [00:52<00:00, 94.57it/s]\n",
      "Joint networks training: 100%|████████████████████████████████████████████████████| 5000/5000 [25:23<00:00,  3.28it/s]\n"
     ]
    }
   ],
   "source": [
    "if path.exists('synthesizer_stock.pkl2'):\n",
    "    synth = TimeGAN.load('synthesizer_stock.pkl2')\n",
    "else:\n",
    "    synth = TimeGAN(model_parameters=gan_args, hidden_dim=24, seq_len=seq_len, n_seq=n_seq, gamma=1)\n",
    "    synth.train(train_data, train_steps=5000)\n",
    "    synth.save('synthesizer_stock.pkl2')"
   ]
  },
  {
   "cell_type": "markdown",
   "metadata": {},
   "source": [
    "Generate Fake Data"
   ]
  },
  {
   "cell_type": "code",
   "execution_count": 90,
   "metadata": {},
   "outputs": [
    {
     "name": "stderr",
     "output_type": "stream",
     "text": [
      "Synthetic data generation: 100%|████████████████████████████████████████████████████████| 8/8 [00:00<00:00, 18.70it/s]\n"
     ]
    }
   ],
   "source": [
    "synth_data = synth.sample(len(train_data))"
   ]
  },
  {
   "cell_type": "code",
   "execution_count": 94,
   "metadata": {},
   "outputs": [
    {
     "data": {
      "text/plain": [
       "array([[[1., 1., 1., 1., 1.],\n",
       "        [1., 1., 1., 1., 1.],\n",
       "        [1., 1., 1., 1., 1.],\n",
       "        ...,\n",
       "        [1., 1., 1., 1., 1.],\n",
       "        [1., 1., 1., 1., 1.],\n",
       "        [1., 1., 1., 1., 1.]],\n",
       "\n",
       "       [[1., 1., 1., 1., 1.],\n",
       "        [1., 1., 1., 1., 1.],\n",
       "        [1., 1., 1., 1., 1.],\n",
       "        ...,\n",
       "        [1., 1., 1., 1., 1.],\n",
       "        [1., 1., 1., 1., 1.],\n",
       "        [1., 1., 1., 1., 1.]],\n",
       "\n",
       "       [[1., 1., 1., 1., 1.],\n",
       "        [1., 1., 1., 1., 1.],\n",
       "        [1., 1., 1., 1., 1.],\n",
       "        ...,\n",
       "        [1., 1., 1., 1., 1.],\n",
       "        [1., 1., 1., 1., 1.],\n",
       "        [1., 1., 1., 1., 1.]],\n",
       "\n",
       "       ...,\n",
       "\n",
       "       [[1., 1., 1., 1., 1.],\n",
       "        [1., 1., 1., 1., 1.],\n",
       "        [1., 1., 1., 1., 1.],\n",
       "        ...,\n",
       "        [1., 1., 1., 1., 1.],\n",
       "        [1., 1., 1., 1., 1.],\n",
       "        [1., 1., 1., 1., 1.]],\n",
       "\n",
       "       [[1., 1., 1., 1., 1.],\n",
       "        [1., 1., 1., 1., 1.],\n",
       "        [1., 1., 1., 1., 1.],\n",
       "        ...,\n",
       "        [1., 1., 1., 1., 1.],\n",
       "        [1., 1., 1., 1., 1.],\n",
       "        [1., 1., 1., 1., 1.]],\n",
       "\n",
       "       [[1., 1., 1., 1., 1.],\n",
       "        [1., 1., 1., 1., 1.],\n",
       "        [1., 1., 1., 1., 1.],\n",
       "        ...,\n",
       "        [1., 1., 1., 1., 1.],\n",
       "        [1., 1., 1., 1., 1.],\n",
       "        [1., 1., 1., 1., 1.]]], dtype=float32)"
      ]
     },
     "execution_count": 94,
     "metadata": {},
     "output_type": "execute_result"
    }
   ],
   "source": [
    "synth_data"
   ]
  },
  {
   "cell_type": "code",
   "execution_count": null,
   "metadata": {},
   "outputs": [],
   "source": []
  }
 ],
 "metadata": {
  "kernelspec": {
   "display_name": "Python 3",
   "language": "python",
   "name": "python3"
  },
  "language_info": {
   "codemirror_mode": {
    "name": "ipython",
    "version": 3
   },
   "file_extension": ".py",
   "mimetype": "text/x-python",
   "name": "python",
   "nbconvert_exporter": "python",
   "pygments_lexer": "ipython3",
   "version": "3.8.5"
  }
 },
 "nbformat": 4,
 "nbformat_minor": 4
}
